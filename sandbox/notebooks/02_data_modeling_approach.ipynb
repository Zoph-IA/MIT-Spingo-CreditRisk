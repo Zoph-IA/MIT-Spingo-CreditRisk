{
 "cells": [
  {
   "cell_type": "code",
   "execution_count": 1,
   "metadata": {},
   "outputs": [],
   "source": [
    "# ---\n",
    "# 02_data_modeling_approach.ipynb\n",
    "# Sandbox: Data Modeling Approach\n",
    "# ---"
   ]
  },
  {
   "cell_type": "code",
   "execution_count": 2,
   "metadata": {},
   "outputs": [],
   "source": [
    "# %pip install numpy pandas scikit-learn category_encoders xgboost lightgbm catboost optuna mlflow shap pytorch-tabular pytorch-lightning tabnet transformers matplotlib seaborn plotly tqdm joblib xlrd"
   ]
  },
  {
   "cell_type": "code",
   "execution_count": 3,
   "metadata": {},
   "outputs": [],
   "source": [
    "import pandas as pd"
   ]
  },
  {
   "cell_type": "code",
   "execution_count": 4,
   "metadata": {},
   "outputs": [],
   "source": [
    "pd.set_option('display.max_columns', None)"
   ]
  },
  {
   "cell_type": "code",
   "execution_count": 5,
   "metadata": {},
   "outputs": [],
   "source": [
    "DATA_PATH = '../../data/bronze/HubSpot CRM All Contacts Feb 27 2025.xls'"
   ]
  },
  {
   "cell_type": "code",
   "execution_count": 6,
   "metadata": {},
   "outputs": [
    {
     "name": "stdout",
     "output_type": "stream",
     "text": [
      "Dataset loaded successfully with 10422 rows and 249 columns.\n"
     ]
    }
   ],
   "source": [
    "view_head = False\n",
    "try:\n",
    "    df = pd.read_excel(DATA_PATH)\n",
    "    n_cols = df.shape\n",
    "    n_rows = df.shape[0]\n",
    "    print(\"Dataset loaded successfully with {} rows and {} columns.\".format(n_rows, n_cols[1]))\n",
    "    view_head = True\n",
    "except Exception as e:\n",
    "    print(f\"Error loading dataset: {e}\")"
   ]
  },
  {
   "cell_type": "code",
   "execution_count": 7,
   "metadata": {},
   "outputs": [
    {
     "name": "stdout",
     "output_type": "stream",
     "text": [
      "COLUMNS FOR DATASET\n",
      "--------------------\n",
      "Record ID\n",
      "First Name\n",
      "Last Name\n",
      "¿Cuál es el año de tu auto?\n",
      "¿Cuál es la marca y modelo de tu auto?\n",
      "¿Cuál es modelo y año de tu auto?\n",
      "¿Cuál es tu nombre completo?\n",
      "¿Cuentas con la factura original del auto?\n",
      "¿Cuentas con la factura original del auto?v2\n",
      "¿Tu auto es del año 2010 o más actual?\n",
      "Annual Revenue\n",
      "Año del auto\n",
      "Apellido paterno\n",
      "Average Pageviews\n",
      "Aviso de Privacidad\n",
      "Blog de SpinGo - Tips sobre empeño de autos Email Subscription (Español)\n",
      "Buying Role\n",
      "Campaign of last booking in meetings tool\n",
      "Canal comercial\n",
      "Canal de Origen\n",
      "City\n",
      "Close Date\n",
      "Código Postal\n",
      "Company Name\n",
      "Company size\n",
      "Comprobante Domicilio Anverso\n",
      "Comprobante Domicilio Reverso\n",
      "Contact owner\n",
      "Contact unworked\n",
      "Contraseña\n",
      "Country/Region\n",
      "Country/Region Code\n",
      "Create Date\n",
      "Created by Treble\n",
      "Created by user ID\n",
      "Cuenta con la factura original\n",
      "Cumulative time in \"Customer (Lifecycle Stage Pipeline)\" (HH:mm:ss)\n",
      "Cumulative time in \"Evangelist (Lifecycle Stage Pipeline)\" (HH:mm:ss)\n",
      "Cumulative time in \"Lead (Lifecycle Stage Pipeline)\" (HH:mm:ss)\n",
      "Cumulative time in \"Marketing Qualified Lead (Lifecycle Stage Pipeline)\" (HH:mm:ss)\n",
      "Cumulative time in \"Opportunity (Lifecycle Stage Pipeline)\" (HH:mm:ss)\n",
      "Cumulative time in \"Other (Lifecycle Stage Pipeline)\" (HH:mm:ss)\n",
      "Cumulative time in \"Sales Qualified Lead (Lifecycle Stage Pipeline)\" (HH:mm:ss)\n",
      "Cumulative time in \"Subscriber (Lifecycle Stage Pipeline)\" (HH:mm:ss)\n",
      "Currently in Sequence\n",
      "Currently in workflow\n",
      "Date entered \"Customer (Lifecycle Stage Pipeline)\"\n",
      "Date entered \"Evangelist (Lifecycle Stage Pipeline)\"\n",
      "Date entered \"Lead (Lifecycle Stage Pipeline)\"\n",
      "Date entered \"Marketing Qualified Lead (Lifecycle Stage Pipeline)\"\n",
      "Date entered \"Opportunity (Lifecycle Stage Pipeline)\"\n",
      "Date entered \"Other (Lifecycle Stage Pipeline)\"\n",
      "Date entered \"Sales Qualified Lead (Lifecycle Stage Pipeline)\"\n",
      "Date entered \"Subscriber (Lifecycle Stage Pipeline)\"\n",
      "Date exited \"Customer (Lifecycle Stage Pipeline)\"\n",
      "Date exited \"Evangelist (Lifecycle Stage Pipeline)\"\n",
      "Date exited \"Lead (Lifecycle Stage Pipeline)\"\n",
      "Date exited \"Marketing Qualified Lead (Lifecycle Stage Pipeline)\"\n",
      "Date exited \"Opportunity (Lifecycle Stage Pipeline)\"\n",
      "Date exited \"Other (Lifecycle Stage Pipeline)\"\n",
      "Date exited \"Sales Qualified Lead (Lifecycle Stage Pipeline)\"\n",
      "Date exited \"Subscriber (Lifecycle Stage Pipeline)\"\n",
      "Date of birth\n",
      "Date of first engagement\n",
      "Date of last meeting booked in meetings tool\n",
      "Date of the last WhatsApp conversation synced\n",
      "Date of the last WhatsApp message sent from the HubSpot UI\n",
      "Datos del vehículo \n",
      "Days To Close\n",
      "Deals where WhatsApp timeline events will be added?\n",
      "Degree\n",
      "demo 1\n",
      "Description of first engagement\n",
      "Documento Identificacion Frente\n",
      "Documento Identificacion Reverso\n",
      "Domain to which registration email was sent\n",
      "El que simuló_1\n",
      "El que simuló_2\n",
      "El que simuló_3\n",
      "el_que_simulo_2\n",
      "Email Domain\n",
      "Email hard bounce reason\n",
      "Email of the agent that of the agent involved in the last WhatsApp conversation synced\n",
      "Email of the agent that of the agent involved in the last WhatsApp message sent from the HubSpot UI\n",
      "Employment Role\n",
      "Employment Seniority\n",
      "Employment Sub Role\n",
      "Enriched Email Bounce Detected\n",
      "Enrichment opt out\n",
      "Enrichment opt out timestamp\n",
      "Estado de procedencia\n",
      "Estado/Región \n",
      "Event Revenue\n",
      "Facebook click id\n",
      "Factura Original Anverso\n",
      "Factura Original Reverso\n",
      "Fax Number\n",
      "Fecha de referencia reciente\n",
      "Field of study\n",
      "First Closed Order ID\n",
      "First Conversion\n",
      "First Conversion Date\n",
      "First Deal Created Date\n",
      "First marketing email click date\n",
      "First marketing email open date\n",
      "First marketing email reply date\n",
      "First marketing email send date\n",
      "First Order Closed Date\n",
      "First Page Seen\n",
      "First Referring Site\n",
      "First Touch Converting Campaign\n",
      "Fuente de origen v2\n",
      "Gender\n",
      "Google ad click id\n",
      "Graduation date\n",
      "Has been enriched\n",
      "HSM_ NO CONTESTÓ\n",
      "HSM_NO_CONTESTÓ_6_DÍAS\n",
      "HubSpot Score\n",
      "HubSpot Team\n",
      "ID de Referencia\n",
      "ID of first engagement\n",
      "Inbox URL\n",
      "Industry\n",
      "INE Anverso\n",
      "INE Reverso\n",
      "ine_pasaporte\n",
      "Invalid email address\n",
      "IP City\n",
      "IP Country\n",
      "IP Country Code\n",
      "IP State Code/Region Code\n",
      "IP State/Region\n",
      "IP Timezone\n",
      "Job function\n",
      "Job Title\n",
      "Kilometraje\n",
      "Last Activity Date\n",
      "Last Contacted\n",
      "Last Engagement Date\n",
      "Last marketing email click date\n",
      "Last marketing email name\n",
      "Last marketing email open date\n",
      "Last marketing email reply date\n",
      "Last marketing email send date\n",
      "Last Modified Date\n",
      "Last NPS survey comment\n",
      "Last NPS survey date\n",
      "Last NPS survey rating\n",
      "Last Page Seen\n",
      "Last Referring Site\n",
      "Last sequence ended date\n",
      "Last sequence enrolled\n",
      "Last sequence enrolled date\n",
      "Last Touch Converting Campaign\n",
      "Latest Disqualified Lead Date\n",
      "Latest Open Lead Date\n",
      "Latest Qualified Lead Date\n",
      "Latest time in \"Customer (Lifecycle Stage Pipeline)\" (HH:mm:ss)\n",
      "Latest time in \"Evangelist (Lifecycle Stage Pipeline)\" (HH:mm:ss)\n",
      "Latest time in \"Lead (Lifecycle Stage Pipeline)\" (HH:mm:ss)\n",
      "Latest time in \"Marketing Qualified Lead (Lifecycle Stage Pipeline)\" (HH:mm:ss)\n",
      "Latest time in \"Opportunity (Lifecycle Stage Pipeline)\" (HH:mm:ss)\n",
      "Latest time in \"Other (Lifecycle Stage Pipeline)\" (HH:mm:ss)\n",
      "Latest time in \"Sales Qualified Lead (Lifecycle Stage Pipeline)\" (HH:mm:ss)\n",
      "Latest time in \"Subscriber (Lifecycle Stage Pipeline)\" (HH:mm:ss)\n",
      "Latest Traffic Source\n",
      "Latest Traffic Source Date\n",
      "Latest Traffic Source Drill-Down 1\n",
      "Latest Traffic Source Drill-Down 2\n",
      "Lead response time (HH:mm:ss)\n",
      "Lead Status\n",
      "Legal basis for processing contact's data\n",
      "Lifecycle Stage\n",
      "LinkedIn URL\n",
      "manychat\n",
      "Marca del auto\n",
      "Marca del Vehículo (Deprecated)\n",
      "Marital Status\n",
      "Marketing contact status\n",
      "Marketing contact status source name\n",
      "Marketing contact status source type\n",
      "Marketing contact until next update\n",
      "Marketing email confirmation status\n",
      "Marketing emails bounced\n",
      "Marketing emails clicked\n",
      "Marketing emails delivered\n",
      "Marketing emails opened\n",
      "Marketing emails replied\n",
      "Medio de contacto\n",
      "Medium of last booking in meetings tool\n",
      "Member email\n",
      "Member has accessed private content\n",
      "Membership last private content access date\n",
      "Membership Notes\n",
      "Merged Contact IDs\n",
      "Message\n",
      "Message sent from HubSpot UI\n",
      "Military status\n",
      "Mobile Phone Number\n",
      "Modelo\n",
      "Motivo de solicitud - Pyme\n",
      "Next Activity Date\n",
      "Number of Associated Deals\n",
      "Number of Employees\n",
      "Number of event completions\n",
      "Number of Form Submissions\n",
      "Number of Pageviews\n",
      "Number of Sales Activities\n",
      "Number of sequences enrolled\n",
      "Number of Sessions\n",
      "Number of times contacted\n",
      "Number of Unique Forms Submitted\n",
      "Opted out of email: Blog de SpinGo - Tips sobre empeño de autos Subscription (Español)\n",
      "Opted out of email: Customer Service Communication\n",
      "Opted out of email: Marketing Information\n",
      "Opted out of email: One to One\n",
      "Original Traffic Source\n",
      "Original Traffic Source Drill-Down 1\n",
      "Original Traffic Source Drill-Down 2\n",
      "Owner assigned date\n",
      "Persona\n",
      "Phone number\n",
      "Phone Number\n",
      "Plataforma\n",
      "Postal Code\n",
      "Preferred language\n",
      "Préstamo tentativo\n",
      "Préstamo tentativo (Simulador)\n",
      "Producto SpinGo\n",
      "Quarantined Emails\n",
      "reactivación_1\n",
      "reactivación_2\n",
      "Recent Closed Order Date\n",
      "Recent Conversion\n",
      "Recent Conversion Date\n",
      "Recent Deal Amount\n",
      "Recent Deal Close Date\n",
      "Recent Sales Email Clicked Date\n",
      "Recent Sales Email Opened Date\n",
      "Recent Sales Email Replied Date\n",
      "Rechazo cliente\n",
      "Rechazo spingo \n",
      "Record source\n",
      "Record source detail 1\n",
      "Record source detail 2\n",
      "Record source detail 3\n",
      "Referencias totales\n",
      "Referente\n"
     ]
    }
   ],
   "source": [
    "cols = list(df.columns)\n",
    "print(\"COLUMNS FOR DATASET\")\n",
    "print(\"--------------------\")\n",
    "for col in cols:\n",
    "    print(col)"
   ]
  },
  {
   "cell_type": "code",
   "execution_count": 8,
   "metadata": {},
   "outputs": [],
   "source": [
    "relevent_columns = [\n",
    "    'Año del auto',\n",
    "    'Marca del auto',\n",
    "    'Modelo',\n",
    "    'Kilometraje',\n",
    "    'Cuenta con la factura original',\n",
    "    'Estado de procedencia',\n",
    "    'Préstamo tentativo (Simulador)'\n",
    "]"
   ]
  },
  {
   "cell_type": "code",
   "execution_count": 9,
   "metadata": {},
   "outputs": [],
   "source": [
    "df_filtered = df[relevent_columns]"
   ]
  },
  {
   "cell_type": "code",
   "execution_count": 10,
   "metadata": {},
   "outputs": [
    {
     "name": "stdout",
     "output_type": "stream",
     "text": [
      "Number of registers without missing values: 267\n"
     ]
    }
   ],
   "source": [
    "complete_df = df_filtered.dropna()\n",
    "num_registers = len(complete_df)\n",
    "print(\"Number of registers without missing values:\", num_registers)"
   ]
  },
  {
   "cell_type": "code",
   "execution_count": 11,
   "metadata": {},
   "outputs": [
    {
     "data": {
      "text/plain": [
       "(10422, 7)"
      ]
     },
     "execution_count": 11,
     "metadata": {},
     "output_type": "execute_result"
    }
   ],
   "source": [
    "df_filtered.shape"
   ]
  },
  {
   "cell_type": "code",
   "execution_count": 12,
   "metadata": {},
   "outputs": [
    {
     "data": {
      "text/html": [
       "<div>\n",
       "<style scoped>\n",
       "    .dataframe tbody tr th:only-of-type {\n",
       "        vertical-align: middle;\n",
       "    }\n",
       "\n",
       "    .dataframe tbody tr th {\n",
       "        vertical-align: top;\n",
       "    }\n",
       "\n",
       "    .dataframe thead th {\n",
       "        text-align: right;\n",
       "    }\n",
       "</style>\n",
       "<table border=\"1\" class=\"dataframe\">\n",
       "  <thead>\n",
       "    <tr style=\"text-align: right;\">\n",
       "      <th></th>\n",
       "      <th>Año del auto</th>\n",
       "      <th>Marca del auto</th>\n",
       "      <th>Modelo</th>\n",
       "      <th>Kilometraje</th>\n",
       "      <th>Cuenta con la factura original</th>\n",
       "      <th>Estado de procedencia</th>\n",
       "      <th>Préstamo tentativo (Simulador)</th>\n",
       "    </tr>\n",
       "  </thead>\n",
       "  <tbody>\n",
       "    <tr>\n",
       "      <th>0</th>\n",
       "      <td>2020</td>\n",
       "      <td>BMW</td>\n",
       "      <td>Serie 5</td>\n",
       "      <td>12.0</td>\n",
       "      <td>Si</td>\n",
       "      <td>Ciudad de México</td>\n",
       "      <td>832800</td>\n",
       "    </tr>\n",
       "    <tr>\n",
       "      <th>1</th>\n",
       "      <td>2024</td>\n",
       "      <td>Baic</td>\n",
       "      <td>X55</td>\n",
       "      <td>150.0</td>\n",
       "      <td>Si</td>\n",
       "      <td>Ciudad de México</td>\n",
       "      <td>250400</td>\n",
       "    </tr>\n",
       "    <tr>\n",
       "      <th>2</th>\n",
       "      <td>2021</td>\n",
       "      <td>BMW</td>\n",
       "      <td>Serie 3</td>\n",
       "      <td>150.0</td>\n",
       "      <td>Si</td>\n",
       "      <td>Puebla</td>\n",
       "      <td>388000</td>\n",
       "    </tr>\n",
       "    <tr>\n",
       "      <th>3</th>\n",
       "      <td>NaN</td>\n",
       "      <td>NaN</td>\n",
       "      <td>NaN</td>\n",
       "      <td>NaN</td>\n",
       "      <td>NaN</td>\n",
       "      <td>NaN</td>\n",
       "      <td>NaN</td>\n",
       "    </tr>\n",
       "    <tr>\n",
       "      <th>4</th>\n",
       "      <td>2020</td>\n",
       "      <td>Ford</td>\n",
       "      <td>Lobo</td>\n",
       "      <td>77000.0</td>\n",
       "      <td>Si</td>\n",
       "      <td>Puebla</td>\n",
       "      <td>562,400 MXN</td>\n",
       "    </tr>\n",
       "  </tbody>\n",
       "</table>\n",
       "</div>"
      ],
      "text/plain": [
       "  Año del auto Marca del auto   Modelo  Kilometraje  \\\n",
       "0         2020            BMW  Serie 5         12.0   \n",
       "1         2024           Baic      X55        150.0   \n",
       "2         2021            BMW  Serie 3        150.0   \n",
       "3          NaN            NaN      NaN          NaN   \n",
       "4         2020           Ford     Lobo      77000.0   \n",
       "\n",
       "  Cuenta con la factura original Estado de procedencia  \\\n",
       "0                             Si      Ciudad de México   \n",
       "1                             Si      Ciudad de México   \n",
       "2                             Si                Puebla   \n",
       "3                            NaN                   NaN   \n",
       "4                             Si                Puebla   \n",
       "\n",
       "  Préstamo tentativo (Simulador)  \n",
       "0                         832800  \n",
       "1                         250400  \n",
       "2                         388000  \n",
       "3                            NaN  \n",
       "4                    562,400 MXN  "
      ]
     },
     "execution_count": 12,
     "metadata": {},
     "output_type": "execute_result"
    }
   ],
   "source": [
    "df_filtered.head()"
   ]
  },
  {
   "cell_type": "code",
   "execution_count": 13,
   "metadata": {},
   "outputs": [],
   "source": [
    "import pandas as pd\n",
    "from sklearn.ensemble import RandomForestRegressor\n",
    "from sklearn.model_selection import train_test_split\n",
    "from sklearn.metrics import mean_absolute_error"
   ]
  },
  {
   "cell_type": "code",
   "execution_count": 14,
   "metadata": {},
   "outputs": [],
   "source": [
    "df_filtered = df_filtered.rename(columns={\n",
    "    'Año del auto': 'car_year',\n",
    "    'Marca del auto': 'car_brand',\n",
    "    'Modelo': 'car_model',\n",
    "    'Kilometraje': 'mileage',\n",
    "    'Cuenta con la factura original': 'has_original_invoice',\n",
    "    'Estado de procedencia': 'state_of_origin',\n",
    "    'Préstamo tentativo (Simulador)': 'simulated_loan_amount'\n",
    "})"
   ]
  },
  {
   "cell_type": "code",
   "execution_count": 15,
   "metadata": {},
   "outputs": [],
   "source": [
    "df_model = df_filtered[df_filtered['simulated_loan_amount'].notna()]"
   ]
  },
  {
   "cell_type": "code",
   "execution_count": 16,
   "metadata": {},
   "outputs": [],
   "source": [
    "df_model = df_filtered[df_filtered['simulated_loan_amount'].notna()].copy()\n",
    "\n",
    "df_model['simulated_loan_amount'] = df_model['simulated_loan_amount'].astype(str)\n",
    "\n",
    "df_model['simulated_loan_amount'] = df_model['simulated_loan_amount'].str.replace(r'[^\\d]', '', regex=True)\n",
    "\n",
    "df_model = df_model[df_model['simulated_loan_amount'] != '']\n",
    "\n",
    "df_model['simulated_loan_amount'] = df_model['simulated_loan_amount'].astype(float)"
   ]
  },
  {
   "cell_type": "code",
   "execution_count": 17,
   "metadata": {},
   "outputs": [],
   "source": [
    "X = df_model.drop(columns=['simulated_loan_amount'])\n",
    "y = df_model['simulated_loan_amount']"
   ]
  },
  {
   "cell_type": "code",
   "execution_count": 18,
   "metadata": {},
   "outputs": [],
   "source": [
    "X_encoded = pd.get_dummies(X)"
   ]
  },
  {
   "cell_type": "code",
   "execution_count": 19,
   "metadata": {},
   "outputs": [
    {
     "name": "stdout",
     "output_type": "stream",
     "text": [
      "Shape of X_encoded: (5126, 476)\n",
      "Shape of y: (5126,)\n"
     ]
    }
   ],
   "source": [
    "print(\"Shape of X_encoded:\", X_encoded.shape)\n",
    "print(\"Shape of y:\", y.shape)"
   ]
  },
  {
   "cell_type": "code",
   "execution_count": 20,
   "metadata": {},
   "outputs": [
    {
     "name": "stdout",
     "output_type": "stream",
     "text": [
      "Mean Absolute Error: 22784.64\n"
     ]
    }
   ],
   "source": [
    "from sklearn.model_selection import train_test_split\n",
    "from sklearn.ensemble import RandomForestRegressor\n",
    "from sklearn.metrics import mean_absolute_error\n",
    "\n",
    "X_train, X_test, y_train, y_test = train_test_split(\n",
    "    X_encoded, y, test_size=0.2, random_state=42\n",
    ")\n",
    "\n",
    "model = RandomForestRegressor(random_state=42)\n",
    "model.fit(X_train, y_train)\n",
    "\n",
    "y_pred = model.predict(X_test)\n",
    "mae = mean_absolute_error(y_test, y_pred)\n",
    "print(f\"Mean Absolute Error: {mae:.2f}\")"
   ]
  },
  {
   "cell_type": "code",
   "execution_count": 21,
   "metadata": {},
   "outputs": [
    {
     "data": {
      "image/png": "[encoded data removed]",
      "text/plain": [
       "<Figure size 1000x600 with 1 Axes>"
      ]
     },
     "metadata": {},
     "output_type": "display_data"
    }
   ],
   "source": [
    "import matplotlib.pyplot as plt\n",
    "import numpy as np\n",
    "\n",
    "importances = model.feature_importances_\n",
    "indices = np.argsort(importances)[::-1]\n",
    "top_features = X_encoded.columns[indices][:20]\n",
    "\n",
    "plt.figure(figsize=(10, 6))\n",
    "plt.barh(top_features[::-1], importances[indices][:20][::-1])\n",
    "plt.xlabel(\"Feature Importance\")\n",
    "plt.title(\"Top 20 Most Important Features\")\n",
    "plt.tight_layout()\n",
    "plt.show()"
   ]
  },
  {
   "cell_type": "code",
   "execution_count": 22,
   "metadata": {},
   "outputs": [
    {
     "name": "stdout",
     "output_type": "stream",
     "text": [
      "Using 43 out of 476 total features.\n"
     ]
    }
   ],
   "source": [
    "importances = model.feature_importances_\n",
    "features = X_encoded.columns\n",
    "\n",
    "importances_df = pd.DataFrame({\n",
    "    'feature': features,\n",
    "    'importance': importances\n",
    "})\n",
    "\n",
    "important_features = importances_df[importances_df['importance'] > 0.005]\n",
    "print(f\"Using {len(important_features)} out of {len(features)} total features.\")"
   ]
  },
  {
   "cell_type": "code",
   "execution_count": 23,
   "metadata": {},
   "outputs": [
    {
     "name": "stdout",
     "output_type": "stream",
     "text": [
      "XGBoost MAE: 27698.18\n"
     ]
    }
   ],
   "source": [
    "import xgboost as xgb\n",
    "from sklearn.model_selection import train_test_split\n",
    "from sklearn.metrics import mean_absolute_error\n",
    "\n",
    "X_train, X_test, y_train, y_test = train_test_split(\n",
    "    X_encoded, y, test_size=0.2, random_state=42\n",
    ")\n",
    "\n",
    "xgb_model = xgb.XGBRegressor(\n",
    "    n_estimators=200,\n",
    "    max_depth=6,\n",
    "    learning_rate=0.1,\n",
    "    objective='reg:squarederror',\n",
    "    random_state=42,\n",
    "    n_jobs=-1\n",
    ")\n",
    "xgb_model.fit(X_train, y_train)\n",
    "\n",
    "y_pred = xgb_model.predict(X_test)\n",
    "mae = mean_absolute_error(y_test, y_pred)\n",
    "print(f\"XGBoost MAE: {mae:.2f}\")"
   ]
  },
  {
   "cell_type": "code",
   "execution_count": 24,
   "metadata": {},
   "outputs": [
    {
     "name": "stdout",
     "output_type": "stream",
     "text": [
      "HyperTuned Random Forest MAE: 36411.55\n"
     ]
    }
   ],
   "source": [
    "from sklearn.ensemble import RandomForestRegressor\n",
    "from sklearn.model_selection import train_test_split\n",
    "from sklearn.metrics import mean_absolute_error\n",
    "\n",
    "X_train, X_test, y_train, y_test = train_test_split(\n",
    "    X_encoded, y, test_size=0.2, random_state=42\n",
    ")\n",
    "\n",
    "rf_model = RandomForestRegressor(\n",
    "    n_estimators=300,\n",
    "    max_depth=18,\n",
    "    min_samples_split=5,\n",
    "    min_samples_leaf=2,\n",
    "    random_state=42,\n",
    "    n_jobs=-1\n",
    ")\n",
    "rf_model.fit(X_train, y_train)\n",
    "\n",
    "y_pred = rf_model.predict(X_test)\n",
    "mae = mean_absolute_error(y_test, y_pred)\n",
    "print(f\"HyperTuned Random Forest MAE: {mae:.2f}\")"
   ]
  },
  {
   "cell_type": "code",
   "execution_count": 25,
   "metadata": {},
   "outputs": [
    {
     "name": "stdout",
     "output_type": "stream",
     "text": [
      "car_brand: 33 unique values\n",
      "car_model: 390 unique values\n",
      "state_of_origin: 34 unique values\n"
     ]
    }
   ],
   "source": [
    "categorical_cols = X.select_dtypes(include='object').columns\n",
    "for col in categorical_cols:\n",
    "    unique_vals = X[col].nunique()\n",
    "    if unique_vals > 30:\n",
    "        print(f\"{col}: {unique_vals} unique values\")"
   ]
  },
  {
   "cell_type": "code",
   "execution_count": 26,
   "metadata": {},
   "outputs": [
    {
     "name": "stdout",
     "output_type": "stream",
     "text": [
      "Improved Random Forest MAE: 35275.29\n"
     ]
    }
   ],
   "source": [
    "X_encoded = pd.get_dummies(X, drop_first=True)\n",
    "\n",
    "X_train, X_test, y_train, y_test = train_test_split(\n",
    "    X_encoded, y, test_size=0.2, random_state=42\n",
    ")\n",
    "\n",
    "from sklearn.ensemble import RandomForestRegressor\n",
    "from sklearn.metrics import mean_absolute_error\n",
    "\n",
    "model = RandomForestRegressor(\n",
    "    n_estimators=300,\n",
    "    max_depth=20,\n",
    "    min_samples_split=5,\n",
    "    min_samples_leaf=2,\n",
    "    n_jobs=-1,\n",
    "    random_state=42\n",
    ")\n",
    "model.fit(X_train, y_train)\n",
    "y_pred = model.predict(X_test)\n",
    "\n",
    "mae = mean_absolute_error(y_test, y_pred)\n",
    "print(f\"Improved Random Forest MAE: {mae:.2f}\")"
   ]
  },
  {
   "cell_type": "code",
   "execution_count": 27,
   "metadata": {},
   "outputs": [
    {
     "name": "stdout",
     "output_type": "stream",
     "text": [
      "XGBoost MAE (with grouped categories): 25439.05\n"
     ]
    }
   ],
   "source": [
    "import xgboost as xgb\n",
    "from sklearn.model_selection import train_test_split\n",
    "from sklearn.metrics import mean_absolute_error\n",
    "\n",
    "X_train, X_test, y_train, y_test = train_test_split(\n",
    "    X_encoded, y, test_size=0.2, random_state=42\n",
    ")\n",
    "\n",
    "xgb_model = xgb.XGBRegressor(\n",
    "    n_estimators=300,\n",
    "    learning_rate=0.1,\n",
    "    max_depth=6,\n",
    "    subsample=0.8,\n",
    "    colsample_bytree=0.8,\n",
    "    objective='reg:squarederror',\n",
    "    random_state=42,\n",
    "    n_jobs=-1\n",
    ")\n",
    "xgb_model.fit(X_train, y_train)\n",
    "\n",
    "y_pred = xgb_model.predict(X_test)\n",
    "mae = mean_absolute_error(y_test, y_pred)\n",
    "print(f\"XGBoost MAE (with grouped categories): {mae:.2f}\")"
   ]
  },
  {
   "cell_type": "code",
   "execution_count": 28,
   "metadata": {},
   "outputs": [
    {
     "name": "stdout",
     "output_type": "stream",
     "text": [
      "Fitting 3 folds for each of 25 candidates, totalling 75 fits\n",
      "Tuned XGBoost MAE: 20081.66\n"
     ]
    }
   ],
   "source": [
    "from sklearn.model_selection import RandomizedSearchCV\n",
    "from scipy.stats import randint, uniform\n",
    "\n",
    "param_dist = {\n",
    "    'n_estimators': randint(100, 500),\n",
    "    'max_depth': randint(3, 12),\n",
    "    'learning_rate': uniform(0.01, 0.2),\n",
    "    'subsample': uniform(0.7, 0.3),\n",
    "    'colsample_bytree': uniform(0.7, 0.3)\n",
    "}\n",
    "\n",
    "xgb_base = xgb.XGBRegressor(objective='reg:squarederror', random_state=42, n_jobs=-1)\n",
    "\n",
    "random_search = RandomizedSearchCV(\n",
    "    xgb_base,\n",
    "    param_distributions=param_dist,\n",
    "    n_iter=25,\n",
    "    cv=3,\n",
    "    scoring='neg_mean_absolute_error',\n",
    "    verbose=1,\n",
    "    random_state=42\n",
    ")\n",
    "\n",
    "random_search.fit(X_train, y_train)\n",
    "best_model = random_search.best_estimator_\n",
    "\n",
    "y_pred = best_model.predict(X_test)\n",
    "mae = mean_absolute_error(y_test, y_pred)\n",
    "print(f\"Tuned XGBoost MAE: {mae:.2f}\")"
   ]
  },
  {
   "cell_type": "code",
   "execution_count": 29,
   "metadata": {},
   "outputs": [],
   "source": [
    "X['car_year'] = pd.to_numeric(X['car_year'], errors='coerce')\n",
    "\n",
    "X = X[X['car_year'].notna()]\n",
    "y = y.loc[X.index]\n",
    "\n",
    "X['car_year'] = X['car_year'].astype(int)\n",
    "\n",
    "import datetime\n",
    "current_year = datetime.datetime.now().year\n",
    "X['car_age'] = current_year - X['car_year']\n",
    "X = X.drop(columns=['car_year'])"
   ]
  },
  {
   "cell_type": "code",
   "execution_count": 30,
   "metadata": {},
   "outputs": [],
   "source": [
    "import numpy as np\n",
    "X['mileage_log'] = np.log1p(X['mileage'])\n",
    "X = X.drop(columns=['mileage'])"
   ]
  },
  {
   "cell_type": "code",
   "execution_count": 31,
   "metadata": {},
   "outputs": [
    {
     "name": "stdout",
     "output_type": "stream",
     "text": [
      "Improved RF with engineered features MAE: 27637.06\n"
     ]
    }
   ],
   "source": [
    "from sklearn.model_selection import train_test_split\n",
    "from sklearn.ensemble import RandomForestRegressor\n",
    "from sklearn.metrics import mean_absolute_error\n",
    "\n",
    "X_encoded = pd.get_dummies(X, drop_first=True)\n",
    "\n",
    "X_train, X_test, y_train, y_test = train_test_split(\n",
    "    X_encoded, y, test_size=0.2, random_state=42\n",
    ")\n",
    "\n",
    "rf_model = RandomForestRegressor(\n",
    "    n_estimators=300,\n",
    "    max_depth=25,\n",
    "    min_samples_split=5,\n",
    "    min_samples_leaf=1,\n",
    "    random_state=42,\n",
    "    n_jobs=-1\n",
    ")\n",
    "rf_model.fit(X_train, y_train)\n",
    "y_pred = rf_model.predict(X_test)\n",
    "mae = mean_absolute_error(y_test, y_pred)\n",
    "print(f\"Improved RF with engineered features MAE: {mae:.2f}\")"
   ]
  },
  {
   "cell_type": "markdown",
   "metadata": {},
   "source": [
    "| Modelo                                   |     MAE |\n",
    "|-------------------------------------------|--------:|\n",
    "| Baseline                                  | 24484.23 |\n",
    "| XGBoost                                   | 27940.94 |\n",
    "| Improved RF with engineered features      | 28129.51 |\n",
    "| Tuned XGBoost                             | 32438.89 |\n",
    "| Improved Random Forest                    | 32646.83 |"
   ]
  },
  {
   "cell_type": "code",
   "execution_count": 32,
   "metadata": {},
   "outputs": [
    {
     "name": "stdout",
     "output_type": "stream",
     "text": [
      "CSV saved to ../../data/silver/df_model.csv\n"
     ]
    }
   ],
   "source": [
    "def save_csv_to_path(df, file_path):\n",
    "    df.to_csv(file_path, index=False)\n",
    "    print(f\"CSV saved to {file_path}\")\n",
    "\n",
    "save_csv_to_path(df_model, \"../../data/silver/df_model.csv\")"
   ]
  },
  {
   "cell_type": "code",
   "execution_count": null,
   "metadata": {},
   "outputs": [],
   "source": []
  }
 ],
 "metadata": {
  "kernelspec": {
   "display_name": "ML",
   "language": "python",
   "name": "python3"
  },
  "language_info": {
   "codemirror_mode": {
    "name": "ipython",
    "version": 3
   },
   "file_extension": ".py",
   "mimetype": "text/x-python",
   "name": "python",
   "nbconvert_exporter": "python",
   "pygments_lexer": "ipython3",
   "version": "3.11.11"
  }
 },
 "nbformat": 4,
 "nbformat_minor": 2
}
